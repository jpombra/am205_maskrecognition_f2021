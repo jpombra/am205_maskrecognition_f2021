{
  "cells": [
    {
      "cell_type": "markdown",
      "source": [
        "# Step 1: Imports"
      ],
      "metadata": {
        "id": "eM_w2WijR73E"
      }
    },
    {
      "cell_type": "code",
      "execution_count": null,
      "metadata": {
        "id": "eA_1F3szQsDk"
      },
      "outputs": [],
      "source": [
        "import numpy as np\n",
        "import pandas as pd\n",
        "import os\n",
        "import cv2\n",
        "import matplotlib.pyplot as plt\n",
        "from skimage.io import imread\n",
        "from skimage.color import rgb2gray\n",
        "import tensorflow as tf\n",
        "from tensorflow.keras import datasets, layers, models\n",
        "import matplotlib.pyplot as plt\n",
        "from sklearn.metrics import accuracy_score, confusion_matrix, classification_report\n",
        "import random\n",
        "from tensorflow.keras.optimizers import RMSprop\n",
        "import visualkeras\n",
        "from keras.utils.vis_utils import plot_model\n",
        "from os import listdir\n",
        "from os.path import isfile, join\n",
        "\n"
      ]
    },
    {
      "cell_type": "code",
      "execution_count": null,
      "metadata": {
        "colab": {
          "base_uri": "https://localhost:8080/"
        },
        "id": "EhRZmFPEX-nT",
        "outputId": "30e856e1-ee66-4717-ec1c-0fd54fcf71c9"
      },
      "outputs": [
        {
          "output_type": "stream",
          "name": "stdout",
          "text": [
            "Drive already mounted at /content/drive; to attempt to forcibly remount, call drive.mount(\"/content/drive\", force_remount=True).\n"
          ]
        }
      ],
      "source": [
        "from google.colab import drive\n",
        "drive.mount('/content/drive')"
      ]
    },
    {
      "cell_type": "markdown",
      "source": [
        "# Step 2: Binary Classification - Masked vs No Mask"
      ],
      "metadata": {
        "id": "FBHx5NMSR4As"
      }
    },
    {
      "cell_type": "markdown",
      "source": [
        "## Load and process"
      ],
      "metadata": {
        "id": "Etr9zmcrYpzH"
      }
    },
    {
      "cell_type": "code",
      "execution_count": 2,
      "metadata": {
        "id": "Udd24RCOnpvC"
      },
      "outputs": [],
      "source": [
        "# list out the categories that we aim to classify and assign numerical labels\n",
        "category_lst = ['unmasked', 'correctly_masked']\n",
        "labels = {0: category_lst[0], 1: category_lst[1]}\n",
        "\n",
        "# initialize storage for training and test data\n",
        "full_data = []\n",
        "train_data = []\n",
        "test_data = []\n",
        "y_train = []\n",
        "y_test = []\n",
        "i = 0\n",
        "# directory where data is stored\n",
        "directory = 'drive/MyDrive/AM 205 Project/'\n",
        "\n",
        "# loop to load data\n",
        "for c in category_lst:\n",
        "  # list all photos in directory belonging to specified class ('unamsked', 'masked', etc.)\n",
        "  onlyfiles = [f for f in listdir('drive/MyDrive/AM 205 Project/{}'.format(c)) if isfile(join('drive/MyDrive/AM 205 Project/{}'.format(c), f))]\n",
        "  for o in onlyfiles:\n",
        "      # upload data and resize for consistency\n",
        "      img = imread(directory + c + '/' + o)\n",
        "      img = cv2.resize(img, (100, 140))\n",
        "      full_data.append(img)\n",
        "  # randomly shuffle data\n",
        "  random.shuffle(full_data)\n",
        "  # select 70% of data for training and 30% for test\n",
        "  train_data = train_data + full_data[:int(0.7*len(full_data))]\n",
        "  test_data = test_data +  full_data[int(0.7*len(full_data)):]\n",
        "  train_length = len(full_data[:int(0.7*len(full_data))])\n",
        "  test_length = len(full_data[int(0.7*len(full_data)):])\n",
        "  y_train = y_train + (i*np.ones(train_length)).tolist()\n",
        "  y_test = y_test + (i*np.ones(test_length)).tolist()\n",
        "  i = i + 1\n",
        "  full_data = []\n",
        "\n",
        "\n",
        "\n",
        "\n"
      ]
    },
    {
      "cell_type": "code",
      "execution_count": null,
      "metadata": {
        "id": "ftStJVwhnpvC"
      },
      "outputs": [],
      "source": [
        "#convert list to array\n",
        "train_data = np.array(train_data, dtype = 'int')\n",
        "test_data = np.array(test_data, dtype = 'int')"
      ]
    },
    {
      "cell_type": "code",
      "execution_count": null,
      "metadata": {
        "id": "zINjK2xPnpvC"
      },
      "outputs": [],
      "source": [
        "# convert list to array\n",
        "y_train = np.array(y_train)\n",
        "y_test = np.array(y_test)"
      ]
    },
    {
      "cell_type": "markdown",
      "source": [
        "## Define model"
      ],
      "metadata": {
        "id": "QfRFsvq3YtDV"
      }
    },
    {
      "cell_type": "code",
      "execution_count": null,
      "metadata": {
        "id": "tH807lygnpvC"
      },
      "outputs": [],
      "source": [
        "# initialize model architecture\n",
        "model = tf.keras.models.Sequential([\n",
        "tf.keras.layers.Conv2D(16, (3,3), activation='relu', input_shape=(140, 100, 3)),\n",
        "tf.keras.layers.MaxPooling2D(2, 2),\n",
        "tf.keras.layers.Conv2D(32, (3,3), activation='relu'),\n",
        "tf.keras.layers.MaxPooling2D(2,2),\n",
        "tf.keras.layers.Conv2D(64, (3,3), activation='relu'),\n",
        "tf.keras.layers.MaxPooling2D(2,2),\n",
        "tf.keras.layers.Conv2D(64, (3,3), activation='relu'),\n",
        "tf.keras.layers.MaxPooling2D(2,2),\n",
        "tf.keras.layers.Conv2D(64, (3,3), activation='relu'),\n",
        "tf.keras.layers.MaxPooling2D(2,2),\n",
        "tf.keras.layers.Flatten(),\n",
        "tf.keras.layers.Dense(512, activation='relu'),\n",
        "tf.keras.layers.Dense(1, activation='sigmoid')])\n"
      ]
    },
    {
      "cell_type": "code",
      "execution_count": null,
      "metadata": {
        "id": "vUIGpML8npvC"
      },
      "outputs": [],
      "source": [
        "# summarize model\n",
        "model.summary()"
      ]
    },
    {
      "cell_type": "code",
      "execution_count": null,
      "metadata": {
        "id": "I8XkkJj_npvC"
      },
      "outputs": [],
      "source": [
        "# compile model with proper loss and accuracy functions\n",
        "model.compile(loss='binary_crossentropy',\n",
        "optimizer=RMSprop(lr=0.001),\n",
        "metrics='accuracy')\n",
        "tf.config.run_functions_eagerly(True)\n"
      ]
    },
    {
      "cell_type": "markdown",
      "source": [
        "## Train Model"
      ],
      "metadata": {
        "id": "4j2Vf9OZYvyp"
      }
    },
    {
      "cell_type": "code",
      "execution_count": null,
      "metadata": {
        "id": "Ry0J6l1DnpvD"
      },
      "outputs": [],
      "source": [
        "# train model and collect information on trianing \n",
        "history = model.fit(train_data, y_train, epochs=50, \n",
        "                    validation_data=(test_data, y_test))"
      ]
    },
    {
      "cell_type": "markdown",
      "source": [
        "## Evaluate model"
      ],
      "metadata": {
        "id": "uodw9xCEYzGd"
      }
    },
    {
      "cell_type": "code",
      "execution_count": null,
      "metadata": {
        "id": "-7qZXzT3oum5"
      },
      "outputs": [],
      "source": [
        "# plot train and test accuracy\n",
        "fig = plt.gcf()\n",
        "fig.set_size_inches(18.5, 10.5)\n",
        "font = {'family' : 'normal',\n",
        "        'weight' : 'bold',\n",
        "        'size'   : 22}\n",
        "\n",
        "plt.rc('font', **font)\n",
        "plt.plot(history.history['accuracy'], label = 'train accuracy')\n",
        "plt.plot(history.history['val_accuracy'], label = 'test accuracy')\n",
        "plt.title('Full Masked vs. No Mask: Train versus Test Accuracy')\n",
        "plt.xlabel('epoch')\n",
        "plt.ylabel('accuracy')\n",
        "plt.legend()"
      ]
    },
    {
      "cell_type": "code",
      "execution_count": null,
      "metadata": {
        "id": "SMtGcnvYnpvD"
      },
      "outputs": [],
      "source": [
        "# get predictions (0 or 1) for classes\n",
        "pred = model.predict(test_data)\n",
        "actual = y_test\n",
        "predicted = []\n",
        "for p in pred:\n",
        "  predicted.append(np.round(p[0]))\n",
        "predicted = np.array(predicted)"
      ]
    },
    {
      "cell_type": "code",
      "execution_count": null,
      "metadata": {
        "id": "P_g4WgQinpvD"
      },
      "outputs": [],
      "source": [
        "# calculate true positive, true negative, false positive, false negative\n",
        "TP = tf.math.count_nonzero(predicted * actual)\n",
        "TN = tf.math.count_nonzero((predicted - 1) * (actual - 1))\n",
        "FP = tf.math.count_nonzero(predicted * (actual - 1))\n",
        "FN = tf.math.count_nonzero((predicted - 1) * actual)"
      ]
    },
    {
      "cell_type": "code",
      "execution_count": null,
      "metadata": {
        "id": "JcDYNxMmnpvD"
      },
      "outputs": [],
      "source": [
        "# calculate precision and recall\n",
        "precision = TP / (TP + FP)\n",
        "recall = TP / (TP + FN)\n",
        "f1 = 2 * precision * recall / (precision + recall)\n",
        "print(precision)\n",
        "print(recall)\n",
        "print(f1)"
      ]
    },
    {
      "cell_type": "markdown",
      "source": [
        "## Check gradients for saliency maps - individual image"
      ],
      "metadata": {
        "id": "npQXf2ziY1XY"
      }
    },
    {
      "cell_type": "code",
      "execution_count": null,
      "metadata": {
        "id": "WTSbG6hPnpvD"
      },
      "outputs": [],
      "source": [
        "# Load individual images to check gradient\n",
        "img1 = imread('img1.jpg')\n",
        "img1 = cv2.resize(img1, (100, 140))\n",
        "img2 =  imread('img2.JPG')\n",
        "img2 = cv2.resize(img2, (100, 140))\n",
        "img3 =  imread('img3.JPG')\n",
        "img3 = cv2.resize(img3, (100, 140))"
      ]
    },
    {
      "cell_type": "code",
      "source": [
        "images = tf.Variable(np.array([img1]), dtype=float)\n",
        "# calculate the gradient with respect to the top class score to see which pixels in the image contribute the most:\n",
        "with tf.GradientTape() as tape:\n",
        "    pred = model(images, training=False)\n",
        "    class_idxs_sorted = np.argsort(pred.numpy().flatten())[::-1]\n",
        "    loss = pred[0][class_idxs_sorted[0]]\n",
        "grads = tape.gradient(loss, images)\n",
        "# find max of the absolute values of the gradient along each RGB channel\n",
        "dgrad_abs = tf.math.abs(grads)\n",
        "dgrad_max_ = np.max(dgrad_abs, axis=3)[0]\n",
        "# normalize to range between 0 and 1\n",
        "arr_min, arr_max  = np.min(dgrad_max_), np.max(dgrad_max_)\n",
        "grad_eval = (dgrad_max_ - arr_min) / (arr_max - arr_min + 1e-18)\n"
      ],
      "metadata": {
        "id": "Pru3rh9IY73o"
      },
      "execution_count": null,
      "outputs": []
    },
    {
      "cell_type": "code",
      "source": [
        "fig, axes = plt.subplots(1,2,figsize=(14,5))\n",
        "axes[0].imshow(img2)\n",
        "i = axes[1].imshow(grad_eval,cmap=\"jet\",alpha=0.8)\n",
        "fig.colorbar(i)"
      ],
      "metadata": {
        "id": "65zATQRTZZPW"
      },
      "execution_count": null,
      "outputs": []
    },
    {
      "cell_type": "markdown",
      "source": [
        "## Check gradients for saliency maps - average images"
      ],
      "metadata": {
        "id": "1-I9n3SRZH9m"
      }
    },
    {
      "cell_type": "code",
      "source": [
        "# initialize average array\n",
        "avg_grad_eval = np.zeros([140,100])"
      ],
      "metadata": {
        "id": "BJwFO1Dk5PfH"
      },
      "execution_count": null,
      "outputs": []
    },
    {
      "cell_type": "code",
      "source": [
        "for i,t in enumerate(test_data):\n",
        "  # calculate the gradient with respect to the top class score to see which pixels in the image contribute the most:\n",
        "  images = tf.Variable(np.array([t]), dtype=float)\n",
        "  with tf.GradientTape() as tape:\n",
        "    pred = model(images, training=False)\n",
        "    class_idxs_sorted = np.argsort(pred.numpy().flatten())[::-1]\n",
        "    loss = pred[0][class_idxs_sorted[0]]\n",
        "  grads = tape.gradient(loss, images)\n",
        "  # find max of the absolute values of the gradient along each RGB channel\n",
        "  dgrad_abs = tf.math.abs(grads)\n",
        "  dgrad_max_ = np.max(dgrad_abs, axis=3)[0]\n",
        "  # normalize to range between 0 and 1\n",
        "  arr_min, arr_max  = np.min(dgrad_max_), np.max(dgrad_max_)\n",
        "  grad_eval = (dgrad_max_ - arr_min) / (arr_max - arr_min + 1e-18)\n",
        "  if y_test[i] == 1:\n",
        "    avg_grad_eval = avg_grad_eval + (1/39)*grad_eval\n",
        "\n"
      ],
      "metadata": {
        "id": "SPtim1M-4QpD"
      },
      "execution_count": null,
      "outputs": []
    },
    {
      "cell_type": "code",
      "execution_count": null,
      "metadata": {
        "id": "jGYzcabNnpvE"
      },
      "outputs": [],
      "source": [
        "fig, axes = plt.subplots(1,1,figsize=(14,5))\n",
        "i = axes.imshow(avg_grad_eval,cmap=\"jet\",alpha=0.8)\n",
        "fig.colorbar(i)"
      ]
    },
    {
      "cell_type": "markdown",
      "metadata": {
        "id": "9ekfjZxh71aS"
      },
      "source": [
        "# Step 3: Binary Classification - Masked vs Half Masked + No Mask"
      ]
    },
    {
      "cell_type": "markdown",
      "source": [
        "## Load and process"
      ],
      "metadata": {
        "id": "y0VGfccIbfeX"
      }
    },
    {
      "cell_type": "code",
      "execution_count": null,
      "metadata": {
        "id": "D7Gl1vJEbfek"
      },
      "outputs": [],
      "source": [
        "# list out the categories that we aim to classify and assign numerical labels\n",
        "category_lst = ['incorrectly_masked', 'correctly_masked']\n",
        "labels = {0: category_lst[0], 1: category_lst[1]}\n",
        "\n",
        "# initialize storage for training and test data\n",
        "full_data = []\n",
        "train_data = []\n",
        "test_data = []\n",
        "y_train = []\n",
        "y_test = []\n",
        "i = 0\n",
        "# directory where data is stored\n",
        "directory = 'drive/MyDrive/AM 205 Project/'\n",
        "\n",
        "# loop to load data\n",
        "for c in category_lst:\n",
        "  # list all photos in directory belonging to specified class ('unamsked', 'masked', etc.)\n",
        "  onlyfiles = [f for f in listdir('drive/MyDrive/AM 205 Project/{}'.format(c)) if isfile(join('drive/MyDrive/AM 205 Project/{}'.format(c), f))]\n",
        "  for o in onlyfiles:\n",
        "      # upload data and resize for consistency\n",
        "      img = imread(directory + c + '/' + o)\n",
        "      img = cv2.resize(img, (100, 140))\n",
        "      full_data.append(img)\n",
        "  # randomly shuffle data\n",
        "  random.shuffle(full_data)\n",
        "  # select 70% of data for training and 30% for test\n",
        "  train_data = train_data + full_data[:int(0.7*len(full_data))]\n",
        "  test_data = test_data +  full_data[int(0.7*len(full_data)):]\n",
        "  train_length = len(full_data[:int(0.7*len(full_data))])\n",
        "  test_length = len(full_data[int(0.7*len(full_data)):])\n",
        "  y_train = y_train + (i*np.ones(train_length)).tolist()\n",
        "  y_test = y_test + (i*np.ones(test_length)).tolist()\n",
        "  i = i + 1\n",
        "  full_data = []\n",
        "\n",
        "\n",
        "\n",
        "\n"
      ]
    },
    {
      "cell_type": "code",
      "execution_count": null,
      "metadata": {
        "id": "lvIBTR5Lbfek"
      },
      "outputs": [],
      "source": [
        "#convert list to array\n",
        "train_data = np.array(train_data, dtype = 'int')\n",
        "test_data = np.array(test_data, dtype = 'int')"
      ]
    },
    {
      "cell_type": "code",
      "execution_count": null,
      "metadata": {
        "id": "sxQQYbbmbfek"
      },
      "outputs": [],
      "source": [
        "# convert list to array\n",
        "y_train = np.array(y_train)\n",
        "y_test = np.array(y_test)"
      ]
    },
    {
      "cell_type": "markdown",
      "source": [
        "## Define model"
      ],
      "metadata": {
        "id": "0UpWPSCPbfek"
      }
    },
    {
      "cell_type": "code",
      "execution_count": null,
      "metadata": {
        "id": "jrsn1JV3bfel"
      },
      "outputs": [],
      "source": [
        "# initialize model architecture\n",
        "model = tf.keras.models.Sequential([\n",
        "tf.keras.layers.Conv2D(16, (3,3), activation='relu', input_shape=(140, 100, 3)),\n",
        "tf.keras.layers.MaxPooling2D(2, 2),\n",
        "tf.keras.layers.Conv2D(32, (3,3), activation='relu'),\n",
        "tf.keras.layers.MaxPooling2D(2,2),\n",
        "tf.keras.layers.Conv2D(64, (3,3), activation='relu'),\n",
        "tf.keras.layers.MaxPooling2D(2,2),\n",
        "tf.keras.layers.Conv2D(64, (3,3), activation='relu'),\n",
        "tf.keras.layers.MaxPooling2D(2,2),\n",
        "tf.keras.layers.Conv2D(64, (3,3), activation='relu'),\n",
        "tf.keras.layers.MaxPooling2D(2,2),\n",
        "tf.keras.layers.Flatten(),\n",
        "tf.keras.layers.Dense(512, activation='relu'),\n",
        "tf.keras.layers.Dense(1, activation='sigmoid')])\n"
      ]
    },
    {
      "cell_type": "code",
      "execution_count": null,
      "metadata": {
        "id": "CU00mBEobfel"
      },
      "outputs": [],
      "source": [
        "# summarize model\n",
        "model.summary()"
      ]
    },
    {
      "cell_type": "code",
      "execution_count": null,
      "metadata": {
        "id": "EEYwWE_obfel"
      },
      "outputs": [],
      "source": [
        "# compile model with proper loss and accuracy functions\n",
        "model.compile(loss='binary_crossentropy',\n",
        "optimizer=RMSprop(lr=0.001),\n",
        "metrics='accuracy')\n",
        "tf.config.run_functions_eagerly(True)\n"
      ]
    },
    {
      "cell_type": "markdown",
      "source": [
        "## Train Model"
      ],
      "metadata": {
        "id": "yRThCkRKbfel"
      }
    },
    {
      "cell_type": "code",
      "execution_count": null,
      "metadata": {
        "id": "MpAm0nkXbfel"
      },
      "outputs": [],
      "source": [
        "# train model and collect information on trianing \n",
        "history = model.fit(train_data, y_train, epochs=50, \n",
        "                    validation_data=(test_data, y_test))"
      ]
    },
    {
      "cell_type": "markdown",
      "source": [
        "## Evaluate model"
      ],
      "metadata": {
        "id": "Oc_P4j36bfel"
      }
    },
    {
      "cell_type": "code",
      "execution_count": null,
      "metadata": {
        "id": "WSrtbl7abfel"
      },
      "outputs": [],
      "source": [
        "# plot train and test accuracy\n",
        "fig = plt.gcf()\n",
        "fig.set_size_inches(18.5, 10.5)\n",
        "font = {'family' : 'normal',\n",
        "        'weight' : 'bold',\n",
        "        'size'   : 22}\n",
        "\n",
        "plt.rc('font', **font)\n",
        "plt.plot(history.history['accuracy'], label = 'train accuracy')\n",
        "plt.plot(history.history['val_accuracy'], label = 'test accuracy')\n",
        "plt.title('Full Masked vs. No Mask: Train versus Test Accuracy')\n",
        "plt.xlabel('epoch')\n",
        "plt.ylabel('accuracy')\n",
        "plt.legend()"
      ]
    },
    {
      "cell_type": "code",
      "execution_count": null,
      "metadata": {
        "id": "ZyhLc8XObfem"
      },
      "outputs": [],
      "source": [
        "# get predictions (0 or 1) for classes\n",
        "pred = model.predict(test_data)\n",
        "actual = y_test\n",
        "predicted = []\n",
        "for p in pred:\n",
        "  predicted.append(np.round(p[0]))\n",
        "predicted = np.array(predicted)"
      ]
    },
    {
      "cell_type": "code",
      "execution_count": null,
      "metadata": {
        "id": "05Pce2xUbfem"
      },
      "outputs": [],
      "source": [
        "# calculate true positive, true negative, false positive, false negative\n",
        "TP = tf.math.count_nonzero(predicted * actual)\n",
        "TN = tf.math.count_nonzero((predicted - 1) * (actual - 1))\n",
        "FP = tf.math.count_nonzero(predicted * (actual - 1))\n",
        "FN = tf.math.count_nonzero((predicted - 1) * actual)"
      ]
    },
    {
      "cell_type": "code",
      "execution_count": null,
      "metadata": {
        "id": "92FGI25Rbfem"
      },
      "outputs": [],
      "source": [
        "# calculate precision and recall\n",
        "precision = TP / (TP + FP)\n",
        "recall = TP / (TP + FN)\n",
        "f1 = 2 * precision * recall / (precision + recall)\n",
        "print(precision)\n",
        "print(recall)\n",
        "print(f1)"
      ]
    },
    {
      "cell_type": "markdown",
      "source": [
        "## Check gradients for saliency maps - individual image"
      ],
      "metadata": {
        "id": "SgzamjhFbfem"
      }
    },
    {
      "cell_type": "code",
      "execution_count": null,
      "metadata": {
        "id": "J2RZIS5abfem"
      },
      "outputs": [],
      "source": [
        "# Load individual images to check gradient\n",
        "img1 = imread('img1.jpg')\n",
        "img1 = cv2.resize(img1, (100, 140))\n",
        "img2 =  imread('img2.JPG')\n",
        "img2 = cv2.resize(img2, (100, 140))\n",
        "img3 =  imread('img3.JPG')\n",
        "img3 = cv2.resize(img3, (100, 140))"
      ]
    },
    {
      "cell_type": "code",
      "source": [
        "images = tf.Variable(np.array([img1]), dtype=float)\n",
        "# calculate the gradient with respect to the top class score to see which pixels in the image contribute the most:\n",
        "with tf.GradientTape() as tape:\n",
        "    pred = model(images, training=False)\n",
        "    class_idxs_sorted = np.argsort(pred.numpy().flatten())[::-1]\n",
        "    loss = pred[0][class_idxs_sorted[0]]\n",
        "grads = tape.gradient(loss, images)\n",
        "# find max of the absolute values of the gradient along each RGB channel\n",
        "dgrad_abs = tf.math.abs(grads)\n",
        "dgrad_max_ = np.max(dgrad_abs, axis=3)[0]\n",
        "# normalize to range between 0 and 1\n",
        "arr_min, arr_max  = np.min(dgrad_max_), np.max(dgrad_max_)\n",
        "grad_eval = (dgrad_max_ - arr_min) / (arr_max - arr_min + 1e-18)\n"
      ],
      "metadata": {
        "id": "qe6_uzcQbfem"
      },
      "execution_count": null,
      "outputs": []
    },
    {
      "cell_type": "code",
      "source": [
        "fig, axes = plt.subplots(1,2,figsize=(14,5))\n",
        "axes[0].imshow(img2)\n",
        "i = axes[1].imshow(grad_eval,cmap=\"jet\",alpha=0.8)\n",
        "fig.colorbar(i)"
      ],
      "metadata": {
        "id": "CzXh7PeJbfem"
      },
      "execution_count": null,
      "outputs": []
    },
    {
      "cell_type": "markdown",
      "source": [
        "## Check gradients for saliency maps - average images"
      ],
      "metadata": {
        "id": "Si-titnYbfen"
      }
    },
    {
      "cell_type": "code",
      "source": [
        "# initialize average array\n",
        "avg_grad_eval = np.zeros([140,100])"
      ],
      "metadata": {
        "id": "ig8LDoT8bfen"
      },
      "execution_count": null,
      "outputs": []
    },
    {
      "cell_type": "code",
      "source": [
        "for i,t in enumerate(test_data):\n",
        "  # calculate the gradient with respect to the top class score to see which pixels in the image contribute the most:\n",
        "  images = tf.Variable(np.array([t]), dtype=float)\n",
        "  with tf.GradientTape() as tape:\n",
        "    pred = model(images, training=False)\n",
        "    class_idxs_sorted = np.argsort(pred.numpy().flatten())[::-1]\n",
        "    loss = pred[0][class_idxs_sorted[0]]\n",
        "  grads = tape.gradient(loss, images)\n",
        "  # find max of the absolute values of the gradient along each RGB channel\n",
        "  dgrad_abs = tf.math.abs(grads)\n",
        "  dgrad_max_ = np.max(dgrad_abs, axis=3)[0]\n",
        "  # normalize to range between 0 and 1\n",
        "  arr_min, arr_max  = np.min(dgrad_max_), np.max(dgrad_max_)\n",
        "  grad_eval = (dgrad_max_ - arr_min) / (arr_max - arr_min + 1e-18)\n",
        "  if y_test[i] == 1:\n",
        "    avg_grad_eval = avg_grad_eval + (1/39)*grad_eval\n",
        "\n"
      ],
      "metadata": {
        "id": "ATC_x3_Cbfen"
      },
      "execution_count": null,
      "outputs": []
    },
    {
      "cell_type": "code",
      "execution_count": null,
      "metadata": {
        "id": "xgFZYTpTbfeo"
      },
      "outputs": [],
      "source": [
        "fig, axes = plt.subplots(1,1,figsize=(14,5))\n",
        "i = axes.imshow(avg_grad_eval,cmap=\"jet\",alpha=0.8)\n",
        "fig.colorbar(i)"
      ]
    },
    {
      "cell_type": "markdown",
      "metadata": {
        "id": "IHdqoS0m747Y"
      },
      "source": [
        "# Step 4: Three Classes"
      ]
    },
    {
      "cell_type": "markdown",
      "source": [
        "## Load and process"
      ],
      "metadata": {
        "id": "VJgbh0_EcxC8"
      }
    },
    {
      "cell_type": "code",
      "execution_count": null,
      "metadata": {
        "id": "3OkMFMMAcxDF"
      },
      "outputs": [],
      "source": [
        "# list out the categories that we aim to classify and assign numerical labels\n",
        "category_lst = ['correctly_masked', 'original half masked + javin half masked','unmasked']\n",
        "labels = {0: category_lst[0], 1: category_lst[1], 2: category_lst[2]}\n",
        "\n",
        "# initialize storage for training and test data\n",
        "full_data = []\n",
        "train_data = []\n",
        "test_data = []\n",
        "y_train = []\n",
        "y_test = []\n",
        "i = 0\n",
        "# directory where data is stored\n",
        "directory = 'drive/MyDrive/AM 205 Project/'\n",
        "\n",
        "# loop to load data\n",
        "for c in category_lst:\n",
        "  # list all photos in directory belonging to specified class ('unamsked', 'masked', etc.)\n",
        "  onlyfiles = [f for f in listdir('drive/MyDrive/AM 205 Project/{}'.format(c)) if isfile(join('drive/MyDrive/AM 205 Project/{}'.format(c), f))]\n",
        "  for o in onlyfiles:\n",
        "      # upload data and resize for consistency\n",
        "      img = imread(directory + c + '/' + o)\n",
        "      img = cv2.resize(img, (100, 140))\n",
        "      full_data.append(img)\n",
        "  # randomly shuffle data\n",
        "  random.shuffle(full_data)\n",
        "  # select 70% of data for training and 30% for test\n",
        "  train_data = train_data + full_data[:int(0.7*len(full_data))]\n",
        "  test_data = test_data +  full_data[int(0.7*len(full_data)):]\n",
        "  train_length = len(full_data[:int(0.7*len(full_data))])\n",
        "  test_length = len(full_data[int(0.7*len(full_data)):])\n",
        "  y_train = y_train + (i*np.ones(train_length)).tolist()\n",
        "  y_test = y_test + (i*np.ones(test_length)).tolist()\n",
        "  i = i + 1\n",
        "  full_data = []\n",
        "\n",
        "\n",
        "\n",
        "\n"
      ]
    },
    {
      "cell_type": "code",
      "execution_count": null,
      "metadata": {
        "id": "MhyQ2rusdD-8"
      },
      "outputs": [],
      "source": [
        "#convert list to array\n",
        "train_data = np.array(train_data, dtype = 'int')\n",
        "test_data = np.array(test_data, dtype = 'int')"
      ]
    },
    {
      "cell_type": "code",
      "execution_count": null,
      "metadata": {
        "id": "yZ1QHaD3dD-9"
      },
      "outputs": [],
      "source": [
        "# convert list to array\n",
        "y_train = np.array(y_train)\n",
        "y_test = np.array(y_test)"
      ]
    },
    {
      "cell_type": "markdown",
      "source": [
        "## Define model"
      ],
      "metadata": {
        "id": "n_zXP-IrdD-9"
      }
    },
    {
      "cell_type": "code",
      "execution_count": null,
      "metadata": {
        "id": "2WqZlUokdD-9"
      },
      "outputs": [],
      "source": [
        "# initialize model architecture\n",
        "model = tf.keras.models.Sequential([\n",
        "tf.keras.layers.Conv2D(16, (3,3), activation='relu', input_shape=(140, 100, 3)),\n",
        "tf.keras.layers.MaxPooling2D(2, 2),\n",
        "tf.keras.layers.Conv2D(32, (3,3), activation='relu'),\n",
        "tf.keras.layers.MaxPooling2D(2,2),\n",
        "tf.keras.layers.Conv2D(64, (3,3), activation='relu'),\n",
        "tf.keras.layers.MaxPooling2D(2,2),\n",
        "tf.keras.layers.Conv2D(64, (3,3), activation='relu'),\n",
        "tf.keras.layers.MaxPooling2D(2,2),\n",
        "tf.keras.layers.Conv2D(64, (3,3), activation='relu'),\n",
        "tf.keras.layers.MaxPooling2D(2,2),\n",
        "tf.keras.layers.Flatten(),\n",
        "tf.keras.layers.Dense(512, activation='relu'),\n",
        "tf.keras.layers.Dense(1, activation='sigmoid')])\n"
      ]
    },
    {
      "cell_type": "code",
      "execution_count": null,
      "metadata": {
        "id": "Xy0cP5MCdD-9"
      },
      "outputs": [],
      "source": [
        "# summarize model\n",
        "model.summary()"
      ]
    },
    {
      "cell_type": "code",
      "execution_count": null,
      "metadata": {
        "id": "5dQatG6a9ja-"
      },
      "outputs": [],
      "source": [
        "model.compile(loss='sparse_categorical_crossentropy',\n",
        "optimizer=RMSprop(lr=0.001),\n",
        "metrics='accuracy')"
      ]
    },
    {
      "cell_type": "code",
      "execution_count": null,
      "metadata": {
        "id": "fZ09yA_Y9pA_"
      },
      "outputs": [],
      "source": [
        "history = model.fit(train_data, y_train, epochs=50, \n",
        "                    validation_data=(test_data, y_test))"
      ]
    },
    {
      "cell_type": "markdown",
      "source": [
        "## Evaluate model"
      ],
      "metadata": {
        "id": "6NkixE8ndKJ9"
      }
    },
    {
      "cell_type": "code",
      "execution_count": null,
      "metadata": {
        "id": "0YaKKDJsrJBh"
      },
      "outputs": [],
      "source": [
        "fig = plt.gcf()\n",
        "fig.set_size_inches(18.5, 10.5)\n",
        "font = {'family' : 'normal',\n",
        "        'weight' : 'bold',\n",
        "        'size'   : 22}\n",
        "\n",
        "plt.rc('font', **font)\n",
        "fig.set_size_inches(18.5, 10.5)\n",
        "plt.plot(history.history['accuracy'], label = 'train accuracy')\n",
        "plt.plot(history.history['val_accuracy'], label = 'test accuracy')\n",
        "plt.title('Full Masked vs. Half-Masked vs No Mask: Train versus Test Accuracy')\n",
        "plt.xlabel('epoch')\n",
        "plt.ylabel('accuracy')\n",
        "plt.legend()"
      ]
    },
    {
      "cell_type": "code",
      "source": [
        "pred = model.predict(test_data)\n"
      ],
      "metadata": {
        "id": "nIB7LDdjahQ3"
      },
      "execution_count": null,
      "outputs": []
    },
    {
      "cell_type": "code",
      "execution_count": null,
      "metadata": {
        "id": "wJCA2TlXksy3"
      },
      "outputs": [],
      "source": [
        "pred = model.predict(test_data)\n",
        "actual = y_test\n",
        "predicted = []\n",
        "for p in pred:\n",
        "  predicted.append(np.argmax(p))\n",
        "predicted = np.array(predicted)"
      ]
    },
    {
      "cell_type": "code",
      "source": [
        "from sklearn import metrics\n",
        "print(metrics.confusion_matrix(actual, predicted))"
      ],
      "metadata": {
        "id": "p8t8gPwvaowQ"
      },
      "execution_count": null,
      "outputs": []
    },
    {
      "cell_type": "code",
      "source": [
        "print(metrics.classification_report(actual, predicted))\n"
      ],
      "metadata": {
        "id": "Yyl70cJqavq-"
      },
      "execution_count": null,
      "outputs": []
    },
    {
      "cell_type": "markdown",
      "source": [
        "## Check gradients for saliency maps - individual image"
      ],
      "metadata": {
        "id": "qujTjq8PdojT"
      }
    },
    {
      "cell_type": "code",
      "execution_count": null,
      "metadata": {
        "id": "EB9Eg8Q4dojh"
      },
      "outputs": [],
      "source": [
        "# Load individual images to check gradient\n",
        "img1 = imread('img1.jpg')\n",
        "img1 = cv2.resize(img1, (100, 140))\n",
        "img2 =  imread('img2.JPG')\n",
        "img2 = cv2.resize(img2, (100, 140))\n",
        "img3 =  imread('img3.JPG')\n",
        "img3 = cv2.resize(img3, (100, 140))"
      ]
    },
    {
      "cell_type": "code",
      "source": [
        "images = tf.Variable(np.array([img1]), dtype=float)\n",
        "# calculate the gradient with respect to the top class score to see which pixels in the image contribute the most:\n",
        "with tf.GradientTape() as tape:\n",
        "    pred = model(images, training=False)\n",
        "    class_idxs_sorted = np.argsort(pred.numpy().flatten())[::-1]\n",
        "    loss = pred[0][class_idxs_sorted[0]]\n",
        "grads = tape.gradient(loss, images)\n",
        "# find max of the absolute values of the gradient along each RGB channel\n",
        "dgrad_abs = tf.math.abs(grads)\n",
        "dgrad_max_ = np.max(dgrad_abs, axis=3)[0]\n",
        "# normalize to range between 0 and 1\n",
        "arr_min, arr_max  = np.min(dgrad_max_), np.max(dgrad_max_)\n",
        "grad_eval = (dgrad_max_ - arr_min) / (arr_max - arr_min + 1e-18)\n"
      ],
      "metadata": {
        "id": "xBG5lHzbdojh"
      },
      "execution_count": null,
      "outputs": []
    },
    {
      "cell_type": "code",
      "source": [
        "fig, axes = plt.subplots(1,2,figsize=(14,5))\n",
        "axes[0].imshow(img2)\n",
        "i = axes[1].imshow(grad_eval,cmap=\"jet\",alpha=0.8)\n",
        "fig.colorbar(i)"
      ],
      "metadata": {
        "id": "aGepgDYQdojh"
      },
      "execution_count": null,
      "outputs": []
    },
    {
      "cell_type": "markdown",
      "source": [
        "## Check gradients for saliency maps - average images"
      ],
      "metadata": {
        "id": "gtNsDa-ndojh"
      }
    },
    {
      "cell_type": "code",
      "source": [
        "# initialize average array\n",
        "avg_grad_eval = np.zeros([140,100])"
      ],
      "metadata": {
        "id": "DObJ4DrXdojh"
      },
      "execution_count": null,
      "outputs": []
    },
    {
      "cell_type": "code",
      "source": [
        "for i,t in enumerate(test_data):\n",
        "  # calculate the gradient with respect to the top class score to see which pixels in the image contribute the most:\n",
        "  images = tf.Variable(np.array([t]), dtype=float)\n",
        "  with tf.GradientTape() as tape:\n",
        "    pred = model(images, training=False)\n",
        "    class_idxs_sorted = np.argsort(pred.numpy().flatten())[::-1]\n",
        "    loss = pred[0][class_idxs_sorted[0]]\n",
        "  grads = tape.gradient(loss, images)\n",
        "  # find max of the absolute values of the gradient along each RGB channel\n",
        "  dgrad_abs = tf.math.abs(grads)\n",
        "  dgrad_max_ = np.max(dgrad_abs, axis=3)[0]\n",
        "  # normalize to range between 0 and 1\n",
        "  arr_min, arr_max  = np.min(dgrad_max_), np.max(dgrad_max_)\n",
        "  grad_eval = (dgrad_max_ - arr_min) / (arr_max - arr_min + 1e-18)\n",
        "  if y_test[i] == 1:\n",
        "    avg_grad_eval = avg_grad_eval + (1/39)*grad_eval\n",
        "\n"
      ],
      "metadata": {
        "id": "cyeBq6zSdojh"
      },
      "execution_count": null,
      "outputs": []
    },
    {
      "cell_type": "code",
      "execution_count": null,
      "metadata": {
        "id": "bfVfEQkFdoji"
      },
      "outputs": [],
      "source": [
        "fig, axes = plt.subplots(1,1,figsize=(14,5))\n",
        "i = axes.imshow(avg_grad_eval,cmap=\"jet\",alpha=0.8)\n",
        "fig.colorbar(i)"
      ]
    },
    {
      "cell_type": "markdown",
      "source": [
        "# Step 5: Visualize Model"
      ],
      "metadata": {
        "id": "Jd6YkWHodQaW"
      }
    },
    {
      "cell_type": "code",
      "source": [
        "visualkeras.layered_view(model).show() # display using your system viewer\n",
        "visualkeras.layered_view(model, to_file='output.png') # write to disk\n",
        "visualkeras.layered_view(model, to_file='output.png').show() # write and show\n",
        "\n",
        "visualkeras.layered_view(model)"
      ],
      "metadata": {
        "colab": {
          "base_uri": "https://localhost:8080/",
          "height": 592
        },
        "id": "QVqYmw6D9d4g",
        "outputId": "06987f75-8c3e-423a-854b-935baf7b79a0"
      },
      "execution_count": null,
      "outputs": [
        {
          "output_type": "execute_result",
          "data": {
            "image/png": "[encoded data removed]",
            "text/plain": [
              "<PIL.Image.Image image mode=RGBA size=527x576 at 0x7F7069A53B90>"
            ]
          },
          "metadata": {},
          "execution_count": 212
        }
      ]
    },
    {
      "cell_type": "code",
      "source": [
        "plot_model(model)"
      ],
      "metadata": {
        "colab": {
          "base_uri": "https://localhost:8080/",
          "height": 1000
        },
        "id": "-WPwQq7qClgS",
        "outputId": "11f7f2d6-22b8-4dbc-b128-ff53dde3902b"
      },
      "execution_count": null,
      "outputs": [
        {
          "output_type": "execute_result",
          "data": {
            "image/png": "[encoded data removed]",
            "text/plain": [
              "<IPython.core.display.Image object>"
            ]
          },
          "metadata": {},
          "execution_count": 215
        }
      ]
    }
  ],
  "metadata": {
    "accelerator": "GPU",
    "colab": {
      "name": "CNN_masks",
      "provenance": []
    },
    "kernelspec": {
      "display_name": "Python 3",
      "name": "python3"
    },
    "language_info": {
      "name": "python"
    }
  },
  "nbformat": 4,
  "nbformat_minor": 0
}